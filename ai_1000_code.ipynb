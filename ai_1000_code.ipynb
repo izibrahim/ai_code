{
 "cells": [
  {
   "cell_type": "markdown",
   "metadata": {},
   "source": [
    "#### Getting started With Langchain And Open AI\n",
    "\n",
    "In this quickstart we'll see how to:\n",
    "\n",
    "- Get setup with LangChain, LangSmith and LangServe\n",
    "- Use the most basic and common components of LangChain: prompt templates, models, and output parsers.\n",
    "- Build a simple application with LangChain\n",
    "- Trace your application with LangSmith\n",
    "- Serve your application with LangServe"
   ]
  },
  {
   "cell_type": "code",
   "execution_count": 1,
   "metadata": {},
   "outputs": [],
   "source": [
    "#from langchain_groq import ChatGroq\n",
    "from langchain_groq import ChatGroq"
   ]
  },
  {
   "cell_type": "code",
   "execution_count": 2,
   "metadata": {},
   "outputs": [
    {
     "data": {
      "text/plain": [
       "['InputType',\n",
       " 'OutputType',\n",
       " '__abstractmethods__',\n",
       " '__annotations__',\n",
       " '__call__',\n",
       " '__class__',\n",
       " '__class_getitem__',\n",
       " '__class_vars__',\n",
       " '__copy__',\n",
       " '__deepcopy__',\n",
       " '__delattr__',\n",
       " '__dict__',\n",
       " '__dir__',\n",
       " '__doc__',\n",
       " '__eq__',\n",
       " '__fields_set__',\n",
       " '__format__',\n",
       " '__ge__',\n",
       " '__get_pydantic_core_schema__',\n",
       " '__get_pydantic_json_schema__',\n",
       " '__getattr__',\n",
       " '__getattribute__',\n",
       " '__getstate__',\n",
       " '__gt__',\n",
       " '__hash__',\n",
       " '__init__',\n",
       " '__init_subclass__',\n",
       " '__iter__',\n",
       " '__le__',\n",
       " '__lt__',\n",
       " '__module__',\n",
       " '__ne__',\n",
       " '__new__',\n",
       " '__or__',\n",
       " '__orig_bases__',\n",
       " '__parameters__',\n",
       " '__pretty__',\n",
       " '__private_attributes__',\n",
       " '__pydantic_complete__',\n",
       " '__pydantic_computed_fields__',\n",
       " '__pydantic_core_schema__',\n",
       " '__pydantic_custom_init__',\n",
       " '__pydantic_decorators__',\n",
       " '__pydantic_extra__',\n",
       " '__pydantic_fields__',\n",
       " '__pydantic_fields_set__',\n",
       " '__pydantic_generic_metadata__',\n",
       " '__pydantic_init_subclass__',\n",
       " '__pydantic_parent_namespace__',\n",
       " '__pydantic_post_init__',\n",
       " '__pydantic_private__',\n",
       " '__pydantic_root_model__',\n",
       " '__pydantic_serializer__',\n",
       " '__pydantic_validator__',\n",
       " '__reduce__',\n",
       " '__reduce_ex__',\n",
       " '__replace__',\n",
       " '__repr__',\n",
       " '__repr_args__',\n",
       " '__repr_name__',\n",
       " '__repr_recursion__',\n",
       " '__repr_str__',\n",
       " '__rich_repr__',\n",
       " '__ror__',\n",
       " '__setattr__',\n",
       " '__setstate__',\n",
       " '__signature__',\n",
       " '__sizeof__',\n",
       " '__slots__',\n",
       " '__str__',\n",
       " '__subclasshook__',\n",
       " '__weakref__',\n",
       " '_abatch_with_config',\n",
       " '_abc_impl',\n",
       " '_acall_with_config',\n",
       " '_agenerate',\n",
       " '_agenerate_with_cache',\n",
       " '_all_required_field_names',\n",
       " '_astream',\n",
       " '_atransform_stream_with_config',\n",
       " '_batch_with_config',\n",
       " '_calculate_keys',\n",
       " '_call_async',\n",
       " '_call_with_config',\n",
       " '_check_frozen',\n",
       " '_combine_llm_outputs',\n",
       " '_convert_input',\n",
       " '_copy_and_set_values',\n",
       " '_create_chat_result',\n",
       " '_create_message_dicts',\n",
       " '_default_params',\n",
       " '_generate',\n",
       " '_generate_with_cache',\n",
       " '_get_invocation_params',\n",
       " '_get_llm_string',\n",
       " '_get_ls_params',\n",
       " '_get_value',\n",
       " '_identifying_params',\n",
       " '_is_protocol',\n",
       " '_iter',\n",
       " '_llm_type',\n",
       " '_serialized',\n",
       " '_should_stream',\n",
       " '_stream',\n",
       " '_transform_stream_with_config',\n",
       " 'abatch',\n",
       " 'abatch_as_completed',\n",
       " 'agenerate',\n",
       " 'agenerate_prompt',\n",
       " 'ainvoke',\n",
       " 'apredict',\n",
       " 'apredict_messages',\n",
       " 'as_tool',\n",
       " 'assign',\n",
       " 'astream',\n",
       " 'astream_events',\n",
       " 'astream_log',\n",
       " 'atransform',\n",
       " 'batch',\n",
       " 'batch_as_completed',\n",
       " 'bind',\n",
       " 'bind_functions',\n",
       " 'bind_tools',\n",
       " 'build_extra',\n",
       " 'call_as_llm',\n",
       " 'config_schema',\n",
       " 'config_specs',\n",
       " 'configurable_alternatives',\n",
       " 'configurable_fields',\n",
       " 'construct',\n",
       " 'copy',\n",
       " 'dict',\n",
       " 'from_orm',\n",
       " 'generate',\n",
       " 'generate_prompt',\n",
       " 'get_config_jsonschema',\n",
       " 'get_graph',\n",
       " 'get_input_jsonschema',\n",
       " 'get_input_schema',\n",
       " 'get_lc_namespace',\n",
       " 'get_name',\n",
       " 'get_num_tokens',\n",
       " 'get_num_tokens_from_messages',\n",
       " 'get_output_jsonschema',\n",
       " 'get_output_schema',\n",
       " 'get_prompts',\n",
       " 'get_token_ids',\n",
       " 'input_schema',\n",
       " 'invoke',\n",
       " 'is_lc_serializable',\n",
       " 'json',\n",
       " 'lc_attributes',\n",
       " 'lc_id',\n",
       " 'lc_secrets',\n",
       " 'map',\n",
       " 'model_computed_fields',\n",
       " 'model_config',\n",
       " 'model_construct',\n",
       " 'model_copy',\n",
       " 'model_dump',\n",
       " 'model_dump_json',\n",
       " 'model_extra',\n",
       " 'model_fields',\n",
       " 'model_fields_set',\n",
       " 'model_json_schema',\n",
       " 'model_parametrized_name',\n",
       " 'model_post_init',\n",
       " 'model_rebuild',\n",
       " 'model_validate',\n",
       " 'model_validate_json',\n",
       " 'model_validate_strings',\n",
       " 'output_schema',\n",
       " 'parse_file',\n",
       " 'parse_obj',\n",
       " 'parse_raw',\n",
       " 'pick',\n",
       " 'pipe',\n",
       " 'predict',\n",
       " 'predict_messages',\n",
       " 'raise_deprecation',\n",
       " 'schema',\n",
       " 'schema_json',\n",
       " 'set_verbose',\n",
       " 'stream',\n",
       " 'to_json',\n",
       " 'to_json_not_implemented',\n",
       " 'transform',\n",
       " 'update_forward_refs',\n",
       " 'validate',\n",
       " 'validate_environment',\n",
       " 'with_alisteners',\n",
       " 'with_config',\n",
       " 'with_fallbacks',\n",
       " 'with_listeners',\n",
       " 'with_retry',\n",
       " 'with_structured_output',\n",
       " 'with_types']"
      ]
     },
     "execution_count": 2,
     "metadata": {},
     "output_type": "execute_result"
    }
   ],
   "source": [
    "dir(ChatGroq)"
   ]
  },
  {
   "cell_type": "code",
   "execution_count": null,
   "metadata": {},
   "outputs": [],
   "source": [
    "from langchain_groq import ChatGroq\n",
    "\n",
    "llm = ChatGroq(\n",
    "    model=\"llama-3.1-8b-instant\",\n",
    "    temperature=0,\n",
    "    max_tokens=None,\n",
    "    timeout=None,\n",
    "    max_retries=2,\n",
    "    api_key=\"XXXXXXX\"\n",
    ")"
   ]
  },
  {
   "cell_type": "code",
   "execution_count": 4,
   "metadata": {},
   "outputs": [
    {
     "name": "stdout",
     "output_type": "stream",
     "text": [
      "client=<groq.resources.chat.completions.Completions object at 0x000001C06D333490> async_client=<groq.resources.chat.completions.AsyncCompletions object at 0x000001C06D1C5890> model_name='llama-3.1-8b-instant' temperature=1e-08 model_kwargs={} groq_api_key=SecretStr('**********')\n"
     ]
    }
   ],
   "source": [
    "print(llm)"
   ]
  },
  {
   "cell_type": "code",
   "execution_count": 5,
   "metadata": {},
   "outputs": [],
   "source": [
    "result=llm.invoke(\"What is generative AI?\")"
   ]
  },
  {
   "cell_type": "code",
   "execution_count": 6,
   "metadata": {},
   "outputs": [
    {
     "name": "stdout",
     "output_type": "stream",
     "text": [
      "content='Generative AI refers to a subset of artificial intelligence (AI) that focuses on generating new, original content, such as text, images, music, or videos, based on patterns and structures learned from existing data. This type of AI uses algorithms and machine learning techniques to create new, unique outputs that are often indistinguishable from those created by humans.\\n\\nGenerative AI models are trained on large datasets, which allows them to learn the underlying patterns, relationships, and structures of the data. Once trained, these models can generate new content that is similar in style, tone, and quality to the original data.\\n\\nSome common applications of generative AI include:\\n\\n1. **Text generation**: Generating text, such as articles, stories, or chatbot responses, that are coherent and engaging.\\n2. **Image generation**: Creating new images, such as artwork, landscapes, or product designs, that are realistic and visually appealing.\\n3. **Music generation**: Composing new music, such as melodies, harmonies, or entire songs, that are catchy and engaging.\\n4. **Video generation**: Creating new videos, such as animations, simulations, or movie clips, that are realistic and engaging.\\n5. **Data augmentation**: Generating new data points to augment existing datasets, which can improve the performance of machine learning models.\\n\\nGenerative AI has many potential applications, including:\\n\\n1. **Content creation**: Automating content creation for industries such as media, entertainment, and marketing.\\n2. **Art and design**: Enabling artists and designers to create new and innovative works.\\n3. **Product design**: Generating new product designs, such as furniture, clothing, or electronics.\\n4. **Education**: Creating personalized learning materials and simulations.\\n5. **Healthcare**: Generating new medical images, such as MRI or CT scans, to aid in diagnosis and treatment.\\n\\nHowever, generative AI also raises concerns about:\\n\\n1. **Authenticity**: Determining whether generated content is authentic or fake.\\n2. **Bias**: Ensuring that generated content does not perpetuate biases or stereotypes.\\n3. **Intellectual property**: Addressing issues related to ownership and copyright of generated content.\\n\\nOverall, generative AI has the potential to revolutionize many industries and aspects of our lives, but it also requires careful consideration of its limitations and potential risks.' additional_kwargs={} response_metadata={'token_usage': {'completion_tokens': 467, 'prompt_tokens': 41, 'total_tokens': 508, 'completion_time': 0.698393741, 'prompt_time': 0.002022627, 'queue_time': 0.213678348, 'total_time': 0.700416368}, 'model_name': 'llama-3.1-8b-instant', 'system_fingerprint': 'fp_510c177af0', 'finish_reason': 'stop', 'logprobs': None} id='run-428caa17-4287-4c3e-a7e5-93ffad2206e8-0' usage_metadata={'input_tokens': 41, 'output_tokens': 467, 'total_tokens': 508}\n"
     ]
    }
   ],
   "source": [
    "print(result)"
   ]
  },
  {
   "cell_type": "code",
   "execution_count": 7,
   "metadata": {},
   "outputs": [],
   "source": [
    "from langchain_core.prompts import ChatPromptTemplate"
   ]
  },
  {
   "cell_type": "code",
   "execution_count": null,
   "metadata": {},
   "outputs": [],
   "source": [
    "prompt=ChatPromptTemplate.from_messages(\n",
    "    [\n",
    "        (\"system\",\"Your are Network Engineer, Answer related to network engineering questions only\"),\n",
    "        (\"user\",\"{input}\")\n",
    "    ]\n",
    "\n",
    ")"
   ]
  },
  {
   "cell_type": "code",
   "execution_count": 9,
   "metadata": {},
   "outputs": [
    {
     "name": "stdout",
     "output_type": "stream",
     "text": [
      "content='**OSPF (Open Shortest Path First) Protocol Overview**\\n\\nOSPF (Open Shortest Path First) is a widely used routing protocol in computer networking. It is a link-state routing protocol that is used to exchange routing information between routers in a network. OSPF is a popular choice for large, complex networks due to its scalability, reliability, and flexibility.\\n\\n**Key Features of OSPF**\\n\\n1. **Link-State Routing**: OSPF uses a link-state routing algorithm to build a map of the network topology. Each router maintains a database of the network topology, which is used to calculate the shortest path to each destination.\\n2. **Hierarchical Routing**: OSPF uses a hierarchical routing structure, where the network is divided into areas. Each area is a separate routing domain, and routers within an area exchange routing information with each other.\\n3. **Scalability**: OSPF is designed to scale to large networks, with support for thousands of routers and millions of routes.\\n4. **Reliability**: OSPF uses a reliable routing protocol, with features such as sequence numbers and checksums to ensure that routing information is accurate and up-to-date.\\n5. **Flexibility**: OSPF supports a wide range of network topologies, including point-to-point, point-to-multipoint, and broadcast networks.\\n\\n**OSPF Components**\\n\\n1. **Router**: A router is a device that runs OSPF and is responsible for maintaining the network topology database.\\n2. **Area**: An area is a separate routing domain within the network. Each area is identified by a unique area ID.\\n3. **Router ID**: A router ID is a unique identifier assigned to each router. It is used to identify the router in the network topology database.\\n4. **Neighbor**: A neighbor is a router that is directly connected to another router.\\n5. **Link**: A link is a connection between two routers.\\n\\n**OSPF Packet Types**\\n\\n1. **Hello Packet**: A hello packet is sent by a router to its neighbors to establish a connection.\\n2. **Database Description Packet**: A database description packet is sent by a router to its neighbors to describe its link-state database.\\n3. **Link State Advertisement (LSA) Packet**: An LSA packet is sent by a router to its neighbors to advertise its link-state information.\\n4. **Sequence Number Packet**: A sequence number packet is sent by a router to its neighbors to acknowledge the receipt of an LSA packet.\\n\\n**OSPF Routing Process**\\n\\n1. **Neighbor Discovery**: A router discovers its neighbors by sending hello packets.\\n2. **Database Description**: A router sends a database description packet to its neighbors to describe its link-state database.\\n3. **LSA Exchange**: A router sends LSA packets to its neighbors to advertise its link-state information.\\n4. **Sequence Number**: A router sends a sequence number packet to its neighbors to acknowledge the receipt of an LSA packet.\\n5. **Shortest Path Calculation**: A router calculates the shortest path to each destination using the link-state database.\\n\\n**OSPF Configuration**\\n\\n1. **Router ID**: The router ID is configured on each router.\\n2. **Area ID**: The area ID is configured on each router.\\n3. **Network Statement**: The network statement is used to specify the network that the router is connected to.\\n4. **Router Interface**: The router interface is used to specify the interface that the router is connected to.\\n\\n**OSPF Troubleshooting**\\n\\n1. **Neighbor Relationship**: Check the neighbor relationship between routers.\\n2. **LSA Exchange**: Check the LSA exchange between routers.\\n3. **Sequence Number**: Check the sequence number packet exchange between routers.\\n4. **Shortest Path Calculation**: Check the shortest path calculation on each router.\\n\\nI hope this provides a comprehensive overview of the OSPF protocol. Let me know if you have any specific questions or need further clarification on any of the topics.' additional_kwargs={} response_metadata={'token_usage': {'completion_tokens': 792, 'prompt_tokens': 57, 'total_tokens': 849, 'completion_time': 1.314376825, 'prompt_time': 0.002979807, 'queue_time': 0.21377728099999999, 'total_time': 1.317356632}, 'model_name': 'llama-3.1-8b-instant', 'system_fingerprint': 'fp_55d70a61e4', 'finish_reason': 'stop', 'logprobs': None} id='run-7db8dd54-1eff-4828-86e3-10f896ef69bf-0' usage_metadata={'input_tokens': 57, 'output_tokens': 792, 'total_tokens': 849}\n"
     ]
    }
   ],
   "source": [
    "chain=prompt|llm\n",
    "\n",
    "response=chain.invoke({\"input\":\"Can you me about the OSPF protocol\"})\n",
    "print(response)\n"
   ]
  },
  {
   "cell_type": "code",
   "execution_count": 10,
   "metadata": {},
   "outputs": [],
   "source": [
    "from langchain_core.output_parsers import StrOutputParser\n",
    "output_parser=StrOutputParser()\n",
    "chain=prompt|llm|output_parser"
   ]
  },
  {
   "cell_type": "code",
   "execution_count": 11,
   "metadata": {},
   "outputs": [
    {
     "name": "stdout",
     "output_type": "stream",
     "text": [
      "**OSPF (Open Shortest Path First) Protocol Overview**\n",
      "\n",
      "OSPF (Open Shortest Path First) is a widely used routing protocol in computer networking. It is a link-state routing protocol that is used to exchange routing information between routers in a network. OSPF is a popular choice for large, complex networks due to its scalability, reliability, and flexibility.\n",
      "\n",
      "**Key Features of OSPF**\n",
      "\n",
      "1. **Link-State Routing**: OSPF uses a link-state routing algorithm to build a map of the network topology. Each router maintains a database of the network topology, which is used to calculate the shortest path to each destination.\n",
      "2. **Hierarchical Routing**: OSPF uses a hierarchical routing structure, where the network is divided into areas. Each area is a separate routing domain, and routers within an area exchange routing information with each other.\n",
      "3. **Scalability**: OSPF is designed to scale to large networks, with support for thousands of routers and millions of routes.\n",
      "4. **Reliability**: OSPF uses a reliable routing protocol, with features such as sequence numbers and checksums to ensure that routing information is accurate and up-to-date.\n",
      "5. **Flexibility**: OSPF supports a wide range of network topologies, including point-to-point, point-to-multipoint, and broadcast networks.\n",
      "\n",
      "**OSPF Components**\n",
      "\n",
      "1. **Router**: A router is a device that runs OSPF and is responsible for maintaining the network topology database.\n",
      "2. **Area**: An area is a separate routing domain within the network. Each area is identified by a unique area ID.\n",
      "3. **Router ID**: A router ID is a unique identifier assigned to each router. It is used to identify the router in the network topology database.\n",
      "4. **Neighbor**: A neighbor is a router that is directly connected to another router.\n",
      "5. **Link**: A link is a connection between two routers.\n",
      "\n",
      "**OSPF Packet Types**\n",
      "\n",
      "1. **Hello Packet**: A hello packet is sent by a router to its neighbors to establish a connection.\n",
      "2. **Database Description Packet**: A database description packet is sent by a router to its neighbors to describe its link-state database.\n",
      "3. **Link State Advertisement (LSA) Packet**: An LSA packet is sent by a router to its neighbors to advertise its link-state information.\n",
      "4. **Sequence Number Packet**: A sequence number packet is sent by a router to its neighbors to update its link-state database.\n",
      "\n",
      "**OSPF Routing Process**\n",
      "\n",
      "1. **Neighbor Discovery**: A router discovers its neighbors by sending hello packets.\n",
      "2. **Database Description**: A router sends database description packets to its neighbors to describe its link-state database.\n",
      "3. **Link-State Advertisement**: A router sends LSA packets to its neighbors to advertise its link-state information.\n",
      "4. **Sequence Number**: A router sends sequence number packets to its neighbors to update its link-state database.\n",
      "5. **Shortest Path Calculation**: A router calculates the shortest path to each destination using the link-state database.\n",
      "\n",
      "**OSPF Configuration**\n",
      "\n",
      "1. **Router ID**: The router ID is configured on each router.\n",
      "2. **Area ID**: The area ID is configured on each router.\n",
      "3. **Network Type**: The network type is configured on each router (e.g., point-to-point, point-to-multipoint, broadcast).\n",
      "4. **Hello Interval**: The hello interval is configured on each router to determine how often hello packets are sent.\n",
      "5. **Dead Interval**: The dead interval is configured on each router to determine how long a router waits before declaring a neighbor dead.\n",
      "\n",
      "**OSPF Troubleshooting**\n",
      "\n",
      "1. **Neighbor Relationship**: Verify that the neighbor relationship is established between routers.\n",
      "2. **Link-State Database**: Verify that the link-state database is up-to-date and accurate.\n",
      "3. **Shortest Path Calculation**: Verify that the shortest path calculation is correct.\n",
      "4. **Network Topology**: Verify that the network topology is correct.\n",
      "\n",
      "**OSPF Best Practices**\n",
      "\n",
      "1. **Use a Hierarchical Routing Structure**: Use a hierarchical routing structure to divide the network into areas.\n",
      "2. **Configure Router IDs**: Configure unique router IDs on each router.\n",
      "3. **Configure Area IDs**: Configure unique area IDs on each router.\n",
      "4. **Configure Network Types**: Configure the network type on each router.\n",
      "5. **Configure Hello and Dead Intervals**: Configure the hello and dead intervals on each router.\n",
      "\n",
      "I hope this provides a comprehensive overview of the OSPF protocol. Let me know if you have any specific questions or need further clarification on any of the topics.\n"
     ]
    }
   ],
   "source": [
    "response=chain.invoke({\"input\":\"Can you me about the OSPF protocol\"})\n",
    "print(response)"
   ]
  }
 ],
 "metadata": {
  "kernelspec": {
   "display_name": "Python 3",
   "language": "python",
   "name": "python3"
  },
  "language_info": {
   "codemirror_mode": {
    "name": "ipython",
    "version": 3
   },
   "file_extension": ".py",
   "mimetype": "text/x-python",
   "name": "python",
   "nbconvert_exporter": "python",
   "pygments_lexer": "ipython3",
   "version": "3.11.3"
  }
 },
 "nbformat": 4,
 "nbformat_minor": 2
}
