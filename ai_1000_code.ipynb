{
 "cells": [
  {
   "cell_type": "code",
   "execution_count": null,
   "metadata": {},
   "outputs": [],
   "source": [
    "from langchain_groq import ChatGroq\n",
    "\n",
    "llm = ChatGroq(\n",
    "    model=\"llama-3.1-8b-instant\",\n",
    "    temperature=0,\n",
    "    max_tokens=None,\n",
    "    timeout=None,\n",
    "    max_retries=2,\n",
    "    api_key=\"XXXXXXX\"\n",
    ")"
   ]
  },
  {
   "cell_type": "code",
   "execution_count": 4,
   "metadata": {},
   "outputs": [
    {
     "name": "stdout",
     "output_type": "stream",
     "text": [
      "client=<groq.resources.chat.completions.Completions object at 0x000001C06D333490> async_client=<groq.resources.chat.completions.AsyncCompletions object at 0x000001C06D1C5890> model_name='llama-3.1-8b-instant' temperature=1e-08 model_kwargs={} groq_api_key=SecretStr('**********')\n"
     ]
    }
   ],
   "source": [
    "print(llm)"
   ]
  },
  {
   "cell_type": "code",
   "execution_count": 5,
   "metadata": {},
   "outputs": [],
   "source": [
    "result=llm.invoke(\"What is generative AI?\")"
   ]
  },
  {
   "cell_type": "code",
   "execution_count": 6,
   "metadata": {},
   "outputs": [
    {
     "name": "stdout",
     "output_type": "stream",
     "text": [
      "content='Generative AI refers to a subset of artificial intelligence (AI) that focuses on generating new, original content, such as text, images, music, or videos, based on patterns and structures learned from existing data. This type of AI uses algorithms and machine learning techniques to create new, unique outputs that are often indistinguishable from those created by humans.\\n\\nGenerative AI models are trained on large datasets, which allows them to learn the underlying patterns, relationships, and structures of the data. Once trained, these models can generate new content that is similar in style, tone, and quality to the original data.\\n\\nSome common applications of generative AI include:\\n\\n1. **Text generation**: Generating text, such as articles, stories, or chatbot responses, that are coherent and engaging.\\n2. **Image generation**: Creating new images, such as artwork, landscapes, or product designs, that are realistic and visually appealing.\\n3. **Music generation**: Composing new music, such as melodies, harmonies, or entire songs, that are catchy and engaging.\\n4. **Video generation**: Creating new videos, such as animations, simulations, or movie clips, that are realistic and engaging.\\n5. **Data augmentation**: Generating new data points to augment existing datasets, which can improve the performance of machine learning models.\\n\\nGenerative AI has many potential applications, including:\\n\\n1. **Content creation**: Automating content creation for industries such as media, entertainment, and marketing.\\n2. **Art and design**: Enabling artists and designers to create new and innovative works.\\n3. **Product design**: Generating new product designs, such as furniture, clothing, or electronics.\\n4. **Education**: Creating personalized learning materials and simulations.\\n5. **Healthcare**: Generating new medical images, such as MRI or CT scans, to aid in diagnosis and treatment.\\n\\nHowever, generative AI also raises concerns about:\\n\\n1. **Authenticity**: Determining whether generated content is authentic or fake.\\n2. **Bias**: Ensuring that generated content does not perpetuate biases or stereotypes.\\n3. **Intellectual property**: Addressing issues related to ownership and copyright of generated content.\\n\\nOverall, generative AI has the potential to revolutionize many industries and aspects of our lives, but it also requires careful consideration of its limitations and potential risks.' additional_kwargs={} response_metadata={'token_usage': {'completion_tokens': 467, 'prompt_tokens': 41, 'total_tokens': 508, 'completion_time': 0.698393741, 'prompt_time': 0.002022627, 'queue_time': 0.213678348, 'total_time': 0.700416368}, 'model_name': 'llama-3.1-8b-instant', 'system_fingerprint': 'fp_510c177af0', 'finish_reason': 'stop', 'logprobs': None} id='run-428caa17-4287-4c3e-a7e5-93ffad2206e8-0' usage_metadata={'input_tokens': 41, 'output_tokens': 467, 'total_tokens': 508}\n"
     ]
    }
   ],
   "source": [
    "print(result)"
   ]
  },
  {
   "cell_type": "code",
   "execution_count": 7,
   "metadata": {},
   "outputs": [],
   "source": [
    "from langchain_core.prompts import ChatPromptTemplate"
   ]
  },
  {
   "cell_type": "code",
   "execution_count": null,
   "metadata": {},
   "outputs": [],
   "source": [
    "prompt=ChatPromptTemplate.from_messages(\n",
    "    [\n",
    "        (\"system\",\"Your are Network Engineer, Answer related to network engineering questions only\"),\n",
    "        (\"user\",\"{input}\")\n",
    "    ]\n",
    "\n",
    ")"
   ]
  },
  {
   "cell_type": "code",
   "execution_count": 9,
   "metadata": {},
   "outputs": [
    {
     "name": "stdout",
     "output_type": "stream",
     "text": [
      "content='**OSPF (Open Shortest Path First) Protocol Overview**\\n\\nOSPF (Open Shortest Path First) is a widely used routing protocol in computer networking. It is a link-state routing protocol that is used to exchange routing information between routers in a network. OSPF is a popular choice for large, complex networks due to its scalability, reliability, and flexibility.\\n\\n**Key Features of OSPF**\\n\\n1. **Link-State Routing**: OSPF uses a link-state routing algorithm to build a map of the network topology. Each router maintains a database of the network topology, which is used to calculate the shortest path to each destination.\\n2. **Hierarchical Routing**: OSPF uses a hierarchical routing structure, where the network is divided into areas. Each area is a separate routing domain, and routers within an area exchange routing information with each other.\\n3. **Scalability**: OSPF is designed to scale to large networks, with support for thousands of routers and millions of routes.\\n4. **Reliability**: OSPF uses a reliable routing protocol, with features such as sequence numbers and checksums to ensure that routing information is accurate and up-to-date.\\n5. **Flexibility**: OSPF supports a wide range of network topologies, including point-to-point, point-to-multipoint, and broadcast networks.\\n\\n**OSPF Components**\\n\\n1. **Router**: A router is a device that runs OSPF and is responsible for maintaining the network topology database.\\n2. **Area**: An area is a separate routing domain within the network. Each area is identified by a unique area ID.\\n3. **Router ID**: A router ID is a unique identifier assigned to each router. It is used to identify the router in the network topology database.\\n4. **Neighbor**: A neighbor is a router that is directly connected to another router.\\n5. **Link**: A link is a connection between two routers.\\n\\n**OSPF Packet Types**\\n\\n1. **Hello Packet**: A hello packet is sent by a router to its neighbors to establish a connection.\\n2. **Database Description Packet**: A database description packet is sent by a router to its neighbors to describe its link-state database.\\n3. **Link State Advertisement (LSA) Packet**: An LSA packet is sent by a router to its neighbors to advertise its link-state information.\\n4. **Sequence Number Packet**: A sequence number packet is sent by a router to its neighbors to acknowledge the receipt of an LSA packet.\\n\\n**OSPF Routing Process**\\n\\n1. **Neighbor Discovery**: A router discovers its neighbors by sending hello packets.\\n2. **Database Description**: A router sends a database description packet to its neighbors to describe its link-state database.\\n3. **LSA Exchange**: A router sends LSA packets to its neighbors to advertise its link-state information.\\n4. **Sequence Number**: A router sends a sequence number packet to its neighbors to acknowledge the receipt of an LSA packet.\\n5. **Shortest Path Calculation**: A router calculates the shortest path to each destination using the link-state database.\\n\\n**OSPF Configuration**\\n\\n1. **Router ID**: The router ID is configured on each router.\\n2. **Area ID**: The area ID is configured on each router.\\n3. **Network Statement**: The network statement is used to specify the network that the router is connected to.\\n4. **Router Interface**: The router interface is used to specify the interface that the router is connected to.\\n\\n**OSPF Troubleshooting**\\n\\n1. **Neighbor Relationship**: Check the neighbor relationship between routers.\\n2. **LSA Exchange**: Check the LSA exchange between routers.\\n3. **Sequence Number**: Check the sequence number packet exchange between routers.\\n4. **Shortest Path Calculation**: Check the shortest path calculation on each router.\\n\\nI hope this provides a comprehensive overview of the OSPF protocol. Let me know if you have any specific questions or need further clarification on any of the topics.' additional_kwargs={} response_metadata={'token_usage': {'completion_tokens': 792, 'prompt_tokens': 57, 'total_tokens': 849, 'completion_time': 1.314376825, 'prompt_time': 0.002979807, 'queue_time': 0.21377728099999999, 'total_time': 1.317356632}, 'model_name': 'llama-3.1-8b-instant', 'system_fingerprint': 'fp_55d70a61e4', 'finish_reason': 'stop', 'logprobs': None} id='run-7db8dd54-1eff-4828-86e3-10f896ef69bf-0' usage_metadata={'input_tokens': 57, 'output_tokens': 792, 'total_tokens': 849}\n"
     ]
    }
   ],
   "source": [
    "chain=prompt|llm\n",
    "\n",
    "response=chain.invoke({\"input\":\"Can you me about the OSPF protocol\"})\n",
    "print(response)\n"
   ]
  },
  {
   "cell_type": "code",
   "execution_count": 10,
   "metadata": {},
   "outputs": [],
   "source": [
    "from langchain_core.output_parsers import StrOutputParser\n",
    "output_parser=StrOutputParser()\n",
    "chain=prompt|llm|output_parser"
   ]
  },
  {
   "cell_type": "code",
   "execution_count": 11,
   "metadata": {},
   "outputs": [
    {
     "name": "stdout",
     "output_type": "stream",
     "text": [
      "**OSPF (Open Shortest Path First) Protocol Overview**\n",
      "\n",
      "OSPF (Open Shortest Path First) is a widely used routing protocol in computer networking. It is a link-state routing protocol that is used to exchange routing information between routers in a network. OSPF is a popular choice for large, complex networks due to its scalability, reliability, and flexibility.\n",
      "\n",
      "**Key Features of OSPF**\n",
      "\n",
      "1. **Link-State Routing**: OSPF uses a link-state routing algorithm to build a map of the network topology. Each router maintains a database of the network topology, which is used to calculate the shortest path to each destination.\n",
      "2. **Hierarchical Routing**: OSPF uses a hierarchical routing structure, where the network is divided into areas. Each area is a separate routing domain, and routers within an area exchange routing information with each other.\n",
      "3. **Scalability**: OSPF is designed to scale to large networks, with support for thousands of routers and millions of routes.\n",
      "4. **Reliability**: OSPF uses a reliable routing protocol, with features such as sequence numbers and checksums to ensure that routing information is accurate and up-to-date.\n",
      "5. **Flexibility**: OSPF supports a wide range of network topologies, including point-to-point, point-to-multipoint, and broadcast networks.\n",
      "\n",
      "**OSPF Components**\n",
      "\n",
      "1. **Router**: A router is a device that runs OSPF and is responsible for maintaining the network topology database.\n",
      "2. **Area**: An area is a separate routing domain within the network. Each area is identified by a unique area ID.\n",
      "3. **Router ID**: A router ID is a unique identifier assigned to each router. It is used to identify the router in the network topology database.\n",
      "4. **Neighbor**: A neighbor is a router that is directly connected to another router.\n",
      "5. **Link**: A link is a connection between two routers.\n",
      "\n",
      "**OSPF Packet Types**\n",
      "\n",
      "1. **Hello Packet**: A hello packet is sent by a router to its neighbors to establish a connection.\n",
      "2. **Database Description Packet**: A database description packet is sent by a router to its neighbors to describe its link-state database.\n",
      "3. **Link State Advertisement (LSA) Packet**: An LSA packet is sent by a router to its neighbors to advertise its link-state information.\n",
      "4. **Sequence Number Packet**: A sequence number packet is sent by a router to its neighbors to update its link-state database.\n",
      "\n",
      "**OSPF Routing Process**\n",
      "\n",
      "1. **Neighbor Discovery**: A router discovers its neighbors by sending hello packets.\n",
      "2. **Database Description**: A router sends database description packets to its neighbors to describe its link-state database.\n",
      "3. **Link-State Advertisement**: A router sends LSA packets to its neighbors to advertise its link-state information.\n",
      "4. **Sequence Number**: A router sends sequence number packets to its neighbors to update its link-state database.\n",
      "5. **Shortest Path Calculation**: A router calculates the shortest path to each destination using the link-state database.\n",
      "\n",
      "**OSPF Configuration**\n",
      "\n",
      "1. **Router ID**: The router ID is configured on each router.\n",
      "2. **Area ID**: The area ID is configured on each router.\n",
      "3. **Network Type**: The network type is configured on each router (e.g., point-to-point, point-to-multipoint, broadcast).\n",
      "4. **Hello Interval**: The hello interval is configured on each router to determine how often hello packets are sent.\n",
      "5. **Dead Interval**: The dead interval is configured on each router to determine how long a router waits before declaring a neighbor dead.\n",
      "\n",
      "**OSPF Troubleshooting**\n",
      "\n",
      "1. **Neighbor Relationship**: Verify that the neighbor relationship is established between routers.\n",
      "2. **Link-State Database**: Verify that the link-state database is up-to-date and accurate.\n",
      "3. **Shortest Path Calculation**: Verify that the shortest path calculation is correct.\n",
      "4. **Network Topology**: Verify that the network topology is correct.\n",
      "\n",
      "**OSPF Best Practices**\n",
      "\n",
      "1. **Use a Hierarchical Routing Structure**: Use a hierarchical routing structure to divide the network into areas.\n",
      "2. **Configure Router IDs**: Configure unique router IDs on each router.\n",
      "3. **Configure Area IDs**: Configure unique area IDs on each router.\n",
      "4. **Configure Network Types**: Configure the network type on each router.\n",
      "5. **Configure Hello and Dead Intervals**: Configure the hello and dead intervals on each router.\n",
      "\n",
      "I hope this provides a comprehensive overview of the OSPF protocol. Let me know if you have any specific questions or need further clarification on any of the topics.\n"
     ]
    }
   ],
   "source": [
    "response=chain.invoke({\"input\":\"Can you me about the OSPF protocol\"})\n",
    "print(response)"
   ]
  },
  {
   "cell_type": "code",
   "execution_count": 8,
   "metadata": {},
   "outputs": [
    {
     "name": "stdout",
     "output_type": "stream",
     "text": [
      "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\n"
     ]
    }
   ],
   "source": [
    "import os\n",
    "from dotenv import load_dotenv\n",
    "load_dotenv()\n",
    "\n",
    "groq_api_key=os.getenv(\"GROQ_API_KEY\")\n",
    "groq_api_key\n",
    "print(groq_api_key)"
   ]
  },
  {
   "cell_type": "code",
   "execution_count": 9,
   "metadata": {},
   "outputs": [],
   "source": [
    "from langchain_groq import ChatGroq"
   ]
  },
  {
   "cell_type": "code",
   "execution_count": 10,
   "metadata": {},
   "outputs": [
    {
     "data": {
      "text/plain": [
       "ChatGroq(client=<groq.resources.chat.completions.Completions object at 0x0000021A4FEBF460>, async_client=<groq.resources.chat.completions.AsyncCompletions object at 0x0000021A4FEBE8F0>, model_name='Gemma2-9b-It', groq_api_key=SecretStr('**********'))"
      ]
     },
     "execution_count": 10,
     "metadata": {},
     "output_type": "execute_result"
    }
   ],
   "source": [
    "from langchain_openai import ChatOpenAI\n",
    "from langchain_groq import ChatGroq\n",
    "model=ChatGroq(model=\"Gemma2-9b-It\",groq_api_key=groq_api_key)\n",
    "model"
   ]
  },
  {
   "cell_type": "code",
   "execution_count": 12,
   "metadata": {},
   "outputs": [
    {
     "name": "stdout",
     "output_type": "stream",
     "text": [
      "content='Here\\'s the translation of \"Hello, How are you?\" in French:\\n\\n**Bonjour, comment allez-vous ?** \\n\\n\\nLet\\'s break it down:\\n\\n* **Bonjour** means \"Hello\" \\n* **Comment** means \"How\"\\n* **allez-vous** is the formal way to say \"are you\"\\n\\n\\nLet me know if you have any other phrases you\\'d like translated!\\n' response_metadata={'token_usage': {'completion_tokens': 90, 'prompt_tokens': 21, 'total_tokens': 111, 'completion_time': 0.163636364, 'prompt_time': 0.002133618, 'queue_time': 0.160352868, 'total_time': 0.165769982}, 'model_name': 'Gemma2-9b-It', 'system_fingerprint': 'fp_10c08bf97d', 'finish_reason': 'stop', 'logprobs': None} id='run-a3ccc47c-3368-4dcc-9ced-f1f509a891ac-0' usage_metadata={'input_tokens': 21, 'output_tokens': 90, 'total_tokens': 111}\n"
     ]
    }
   ],
   "source": [
    "from langchain_core.messages import HumanMessage,SystemMessage\n",
    "\n",
    "messages=[\n",
    "    SystemMessage(content=\"Translate the following from English to French\"),\n",
    "    HumanMessage(content=\"Hello How are you?\")\n",
    "]\n",
    "\n",
    "result=model.invoke(messages)\n",
    "print(result)"
   ]
  },
  {
   "cell_type": "code",
   "execution_count": 13,
   "metadata": {},
   "outputs": [
    {
     "data": {
      "text/plain": [
       "AIMessage(content='Here\\'s the translation of \"Hello, How are you?\" in French:\\n\\n**Bonjour, comment allez-vous ?** \\n\\n\\nLet\\'s break it down:\\n\\n* **Bonjour** means \"Hello\" \\n* **Comment** means \"How\"\\n* **allez-vous** is the formal way to say \"are you\"\\n\\n\\nLet me know if you have any other phrases you\\'d like translated!\\n', response_metadata={'token_usage': {'completion_tokens': 90, 'prompt_tokens': 21, 'total_tokens': 111, 'completion_time': 0.163636364, 'prompt_time': 0.002133618, 'queue_time': 0.160352868, 'total_time': 0.165769982}, 'model_name': 'Gemma2-9b-It', 'system_fingerprint': 'fp_10c08bf97d', 'finish_reason': 'stop', 'logprobs': None}, id='run-a3ccc47c-3368-4dcc-9ced-f1f509a891ac-0', usage_metadata={'input_tokens': 21, 'output_tokens': 90, 'total_tokens': 111})"
      ]
     },
     "execution_count": 13,
     "metadata": {},
     "output_type": "execute_result"
    }
   ],
   "source": [
    "result\n"
   ]
  },
  {
   "cell_type": "code",
   "execution_count": 15,
   "metadata": {},
   "outputs": [
    {
     "name": "stdout",
     "output_type": "stream",
     "text": [
      "Here's the translation of \"Hello, How are you?\" in French:\n",
      "\n",
      "**Bonjour, comment allez-vous ?** \n",
      "\n",
      "\n",
      "Let's break it down:\n",
      "\n",
      "* **Bonjour** means \"Hello\" \n",
      "* **Comment** means \"How\"\n",
      "* **allez-vous** is the formal way to say \"are you\"\n",
      "\n",
      "\n",
      "Let me know if you have any other phrases you'd like translated!\n",
      "\n"
     ]
    }
   ],
   "source": [
    "from langchain_core.output_parsers import StrOutputParser\n",
    "parser=StrOutputParser()\n",
    "result = parser.invoke(result)\n",
    "print(result)\n"
   ]
  },
  {
   "cell_type": "code",
   "execution_count": 16,
   "metadata": {},
   "outputs": [
    {
     "data": {
      "text/plain": [
       "\"Hello = Bonjour\\n\\nHow are you? = Comment allez-vous ? (formal) or Comment vas-tu ? (informal) \\n\\n\\nLet me know if you'd like more translations! 😊\\n\""
      ]
     },
     "execution_count": 16,
     "metadata": {},
     "output_type": "execute_result"
    }
   ],
   "source": [
    "chain=model|parser\n",
    "chain.invoke(messages)"
   ]
  },
  {
   "cell_type": "code",
   "execution_count": 17,
   "metadata": {},
   "outputs": [],
   "source": [
    "### Prompt Templates\n",
    "from langchain_core.prompts import ChatPromptTemplate\n",
    "\n",
    "generic_template=\"Trnaslate the following into {language}:\"\n",
    "\n",
    "prompt=ChatPromptTemplate.from_messages(\n",
    "    [(\"system\",generic_template),(\"user\",\"{text}\")]\n",
    ")\n",
    "\n"
   ]
  },
  {
   "cell_type": "code",
   "execution_count": 18,
   "metadata": {},
   "outputs": [],
   "source": [
    "result=prompt.invoke({\"language\":\"French\",\"text\":\"Hello\"})"
   ]
  },
  {
   "cell_type": "code",
   "execution_count": 20,
   "metadata": {},
   "outputs": [
    {
     "data": {
      "text/plain": [
       "ChatPromptValue(messages=[SystemMessage(content='Trnaslate the following into French:'), HumanMessage(content='Hello')])"
      ]
     },
     "execution_count": 20,
     "metadata": {},
     "output_type": "execute_result"
    }
   ],
   "source": [
    "result"
   ]
  },
  {
   "cell_type": "markdown",
   "metadata": {},
   "source": [
    "Chat with Message History\n"
   ]
  },
  {
   "cell_type": "code",
   "execution_count": 1,
   "metadata": {},
   "outputs": [],
   "source": [
    "import os\n",
    "from dotenv import load_dotenv\n",
    "load_dotenv() ## aloading all the environment variable\n",
    "\n",
    "groq_api_key=os.getenv(\"GROQ_API_KEY\")\n"
   ]
  },
  {
   "cell_type": "code",
   "execution_count": 22,
   "metadata": {},
   "outputs": [
    {
     "data": {
      "text/plain": [
       "ChatGroq(client=<groq.resources.chat.completions.Completions object at 0x0000021A4FFDD7E0>, async_client=<groq.resources.chat.completions.AsyncCompletions object at 0x0000021A4FFDD5A0>, model_name='Gemma2-9b-It', groq_api_key=SecretStr('**********'))"
      ]
     },
     "execution_count": 22,
     "metadata": {},
     "output_type": "execute_result"
    }
   ],
   "source": [
    "from langchain_groq import ChatGroq\n",
    "model=ChatGroq(model=\"Gemma2-9b-It\",groq_api_key=groq_api_key)\n",
    "model"
   ]
  },
  {
   "cell_type": "code",
   "execution_count": 24,
   "metadata": {},
   "outputs": [],
   "source": [
    "from langchain_core.messages import HumanMessage\n",
    "response = model.invoke([HumanMessage(content=\"Hi , My name is X and I am a Network Engineer with 10 years of experience.\")])"
   ]
  },
  {
   "cell_type": "code",
   "execution_count": 25,
   "metadata": {},
   "outputs": [
    {
     "data": {
      "text/plain": [
       "\"Hi X, it's nice to meet you! \\n\\nThat's impressive, 10 years of experience as a Network Engineer is a lot to be proud of. What kind of networking do you specialize in?  \\n\\nI'm always eager to learn more about different fields and experiences. 😊  \\n\\n\""
      ]
     },
     "execution_count": 25,
     "metadata": {},
     "output_type": "execute_result"
    }
   ],
   "source": [
    "response.content"
   ]
  },
  {
   "cell_type": "code",
   "execution_count": 28,
   "metadata": {},
   "outputs": [],
   "source": [
    "from langchain_core.messages import AIMessage\n",
    "response = model.invoke(\n",
    "    [\n",
    "        HumanMessage(content=\"Hi , My name is X and I am a Network Engineer with 10 years of experience.\"),\n",
    "        AIMessage(content=\"Hi X, it's nice to meet you! \\n\\nThat's impressive, 10 years of experience as a Network Engineer is a lot to be proud of. What kind of networking do you specialize in?  \\n\\nI'm always eager to learn more about different fields and experiences\"),\n",
    "        HumanMessage(content=\"what is my name\")\n",
    "    ]\n",
    ")"
   ]
  },
  {
   "cell_type": "code",
   "execution_count": 29,
   "metadata": {},
   "outputs": [
    {
     "data": {
      "text/plain": [
       "'Your name is X, as you told me at the beginning of our conversation. 😊 \\n\\n\\nIs there anything else I can help you with today?\\n'"
      ]
     },
     "execution_count": 29,
     "metadata": {},
     "output_type": "execute_result"
    }
   ],
   "source": [
    "response.content"
   ]
  },
  {
   "cell_type": "code",
   "execution_count": 32,
   "metadata": {},
   "outputs": [],
   "source": [
    "from langchain_core.prompts import ChatPromptTemplate,MessagesPlaceholder"
   ]
  },
  {
   "cell_type": "code",
   "execution_count": 34,
   "metadata": {},
   "outputs": [],
   "source": [
    "from langchain_community.chat_message_histories import ChatMessageHistory"
   ]
  },
  {
   "cell_type": "code",
   "execution_count": 41,
   "metadata": {},
   "outputs": [],
   "source": [
    "store = {}\n",
    "\n",
    "def get_session_history(session_id: str) -> ChatMessageHistory:\n",
    "    \"\"\"\n",
    "    Retrieve (or create) the ChatMessageHistory for a given session_id.\n",
    "    Uses an in-memory list under the hood. :contentReference[oaicite:4]{index=4}\n",
    "    \"\"\"\n",
    "    if session_id not in store:\n",
    "        store[session_id] = ChatMessageHistory()\n",
    "    return store[session_id]\n"
   ]
  },
  {
   "cell_type": "code",
   "execution_count": 39,
   "metadata": {},
   "outputs": [],
   "source": [
    "from langchain_core.runnables.history import RunnableWithMessageHistory"
   ]
  },
  {
   "cell_type": "code",
   "execution_count": 40,
   "metadata": {},
   "outputs": [],
   "source": [
    "with_message_history = RunnableWithMessageHistory(model,get_session_history)\n"
   ]
  },
  {
   "cell_type": "code",
   "execution_count": 43,
   "metadata": {},
   "outputs": [],
   "source": [
    "config = {\"configurable\":{\"session_id\":\"chat1\"}}"
   ]
  },
  {
   "cell_type": "code",
   "execution_count": 44,
   "metadata": {},
   "outputs": [
    {
     "data": {
      "text/plain": [
       "\"Hi X, it's nice to meet you! \\n\\nThat's great to hear you have 10 years of experience as a Network Engineer. What kind of work do you usually do? \\n\\nI'm always interested in learning more about different technical fields.  Maybe you can tell me about some of the projects you've worked on or the technologies you're most familiar with.\\n\""
      ]
     },
     "execution_count": 44,
     "metadata": {},
     "output_type": "execute_result"
    }
   ],
   "source": [
    "response =with_message_history.invoke(\n",
    "    [HumanMessage(content=\"Hi , My name is X and I am a Network Engineer with 10 years of experience.\")],\n",
    "    config=config\n",
    ")\n",
    "\n",
    "response.content\n",
    "  "
   ]
  },
  {
   "cell_type": "code",
   "execution_count": 45,
   "metadata": {},
   "outputs": [
    {
     "data": {
      "text/plain": [
       "'Your name is X, as you told me at the beginning of our conversation.  😊 \\n\\n\\nIs there anything else I can help you with today, X?\\n'"
      ]
     },
     "execution_count": 45,
     "metadata": {},
     "output_type": "execute_result"
    }
   ],
   "source": [
    "response =with_message_history.invoke(\n",
    "    [HumanMessage(content=\"what is my name\")],\n",
    "    config=config\n",
    ")\n",
    "\n",
    "response.content"
   ]
  },
  {
   "cell_type": "code",
   "execution_count": 47,
   "metadata": {},
   "outputs": [
    {
     "name": "stdout",
     "output_type": "stream",
     "text": [
      "content='Your name is X, as you told me at the beginning of our conversation.  😊 \\n\\n\\nIs there anything else I can help you with today, X?\\n' response_metadata={'token_usage': {'completion_tokens': 36, 'prompt_tokens': 126, 'total_tokens': 162, 'completion_time': 0.065454545, 'prompt_time': 0.006783068, 'queue_time': 0.162026948, 'total_time': 0.072237613}, 'model_name': 'Gemma2-9b-It', 'system_fingerprint': 'fp_10c08bf97d', 'finish_reason': 'stop', 'logprobs': None} id='run-93416c8b-2e0a-42ce-9eb7-d90f37b9f9a9-0' usage_metadata={'input_tokens': 126, 'output_tokens': 36, 'total_tokens': 162}\n"
     ]
    }
   ],
   "source": [
    "print(response)"
   ]
  }
 ],
 "metadata": {
  "kernelspec": {
   "display_name": "Python 3",
   "language": "python",
   "name": "python3"
  },
  "language_info": {
   "codemirror_mode": {
    "name": "ipython",
    "version": 3
   },
   "file_extension": ".py",
   "mimetype": "text/x-python",
   "name": "python",
   "nbconvert_exporter": "python",
   "pygments_lexer": "ipython3",
   "version": "3.10.11"
  }
 },
 "nbformat": 4,
 "nbformat_minor": 2
}
